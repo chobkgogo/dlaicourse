{
  "nbformat": 4,
  "nbformat_minor": 0,
  "metadata": {
    "colab": {
      "provenance": [],
      "authorship_tag": "ABX9TyOriwz5Y59em7YJeICqkO8b",
      "include_colab_link": true
    },
    "kernelspec": {
      "name": "python3",
      "display_name": "Python 3"
    },
    "language_info": {
      "name": "python"
    }
  },
  "cells": [
    {
      "cell_type": "markdown",
      "metadata": {
        "id": "view-in-github",
        "colab_type": "text"
      },
      "source": [
        "<a href=\"https://colab.research.google.com/github/chobkgogo/dlaicourse/blob/master/Excise2_1_2.ipynb\" target=\"_parent\"><img src=\"https://colab.research.google.com/assets/colab-badge.svg\" alt=\"Open In Colab\"/></a>"
      ]
    },
    {
      "cell_type": "code",
      "source": [
        "import numpy as np import tensorflow as tf\n",
        "\n",
        "model = tf.keras.models.Sequential() model.add(tf.keras.layers.Dense(units=2, input_shape=(2,), activation='sigmoid')) model.add(tf.keras.layers.Dense(units=1, activation='sigmoid'))\n",
        "\n",
        "model.compile(loss='mean_squared_error', optimizer=tf.keras.optimizers.SGD(0.3))\n",
        "\n",
        "model.summary()"
      ],
      "metadata": {
        "id": "mBIEtNAvMgfO"
      },
      "execution_count": null,
      "outputs": []
    },
    {
      "cell_type": "code",
      "source": [
        "X = np.array([[0,0],[0,1],[1,0],[1,1]]) y = np.array([[0], [1], [1], [0]])\n",
        "\n",
        "model.fit(X, y, batch_size=1, epochs=1000)\n",
        "\n",
        "print( model.predict(X) )"
      ],
      "metadata": {
        "id": "cLtUKs7kM4vB"
      },
      "execution_count": null,
      "outputs": []
    }
  ]
}